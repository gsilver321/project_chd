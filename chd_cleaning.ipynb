{
  "nbformat": 4,
  "nbformat_minor": 0,
  "metadata": {
    "colab": {
      "provenance": [],
      "include_colab_link": true
    },
    "kernelspec": {
      "name": "python3",
      "display_name": "Python 3"
    },
    "language_info": {
      "name": "python"
    }
  },
  "cells": [
    {
      "cell_type": "markdown",
      "metadata": {
        "id": "view-in-github",
        "colab_type": "text"
      },
      "source": [
        "<a href=\"https://colab.research.google.com/github/gsilver321/project_chd/blob/main/chd_cleaning.ipynb\" target=\"_parent\"><img src=\"https://colab.research.google.com/assets/colab-badge.svg\" alt=\"Open In Colab\"/></a>"
      ]
    },
    {
      "cell_type": "code",
      "source": [
        "import numpy as np\n",
        "import pandas as pd"
      ],
      "metadata": {
        "id": "YwrX93QXW1Uz"
      },
      "execution_count": 5,
      "outputs": []
    },
    {
      "cell_type": "code",
      "source": [
        "df_train = pd.read_csv(\"https://github.com/DS3001/project_chd/raw/main/fhs_train.csv\")\n",
        "df_test = pd.read_csv(\"https://github.com/DS3001/project_chd/raw/main/fhs_test.csv\")"
      ],
      "metadata": {
        "id": "LInsZLUTXvJN"
      },
      "execution_count": 17,
      "outputs": []
    },
    {
      "cell_type": "code",
      "source": [
        "def winsorize(x):\n",
        "    # convert from pd to np, if necessary:\n",
        "    if type(x) == 'pandas.core.series.Series':\n",
        "        x = x.to_numpy()\n",
        "    # compute IQR and 25, 75 quantiles:\n",
        "    pct25, pct75 = np.percentile(x,[25,75])\n",
        "    iqr = pct75 - pct25\n",
        "    # compute whiskers:\n",
        "    lower_whisker = pct25 - iqr*1.5\n",
        "    upper_whisker = pct75 + iqr*1.5\n",
        "    # winsorize x:\n",
        "    x_winsor = np.copy(x)\n",
        "    x_winsor[ x < lower_whisker ] = lower_whisker\n",
        "    x_winsor[ x > upper_whisker ] = upper_whisker\n",
        "    return(x_winsor)\n",
        "\n",
        "for v in ['age', 'cigsPerDay', 'totChol', 'sysBP', 'diaBP', 'BMI', 'heartRate', 'glucose']: # remove outliers\n",
        "  df_train[v] = winsorize(df_train[v])\n",
        "  df_test[v] = winsorize(df_test[v])"
      ],
      "metadata": {
        "id": "-fgcp_MDUmTO"
      },
      "execution_count": 18,
      "outputs": []
    },
    {
      "cell_type": "code",
      "source": [
        "print('----------- Pre-cleaning | train data null counts')\n",
        "for v in df_train.columns:\n",
        "   print(v, sum(df_train[v].isnull()))\n",
        "\n",
        "print('\\n', df_train.head(), '\\n')\n",
        "\n",
        "df_train = df_train.drop(\"Unnamed: 0\", axis=1) # remove irrelevant column\n",
        "\n",
        "for v in df_train.columns: # loop through each var\n",
        "  df_train[v] = df_train[v].fillna(np.nanmedian(df_train[v])) # fill nan with median for that column. Using median omits outliers\n",
        "\n",
        "print('----------- Post-cleaning | train data null counts')\n",
        "for v in df_train.columns:\n",
        "  print(v, sum(df_train[v].isnull()))\n",
        "\n",
        "print('\\n', df_train.head())"
      ],
      "metadata": {
        "id": "A4dUj84Tq-O0",
        "colab": {
          "base_uri": "https://localhost:8080/"
        },
        "outputId": "5a77083d-ba8c-4ac7-f2df-52f220ad68c4"
      },
      "execution_count": 19,
      "outputs": [
        {
          "output_type": "stream",
          "name": "stdout",
          "text": [
            "----------- Pre-cleaning | train data null counts\n",
            "Unnamed: 0 0\n",
            "sex 0\n",
            "age 0\n",
            "education 85\n",
            "currentSmoker 0\n",
            "cigsPerDay 24\n",
            "BPMeds 37\n",
            "prevalentStroke 0\n",
            "prevalentHyp 0\n",
            "diabetes 0\n",
            "totChol 39\n",
            "sysBP 0\n",
            "diaBP 0\n",
            "BMI 15\n",
            "heartRate 0\n",
            "glucose 285\n",
            "TenYearCHD 0\n",
            "\n",
            "    Unnamed: 0  sex  age  education  currentSmoker  cigsPerDay  BPMeds  \\\n",
            "0        1267    1   58        1.0              0         0.0     0.0   \n",
            "1        1209    0   40        1.0              1        15.0     0.0   \n",
            "2        2050    0   52        1.0              0         0.0     0.0   \n",
            "3        1183    1   38        2.0              1        43.0     0.0   \n",
            "4        3225    0   43        1.0              0         0.0     0.0   \n",
            "\n",
            "   prevalentStroke  prevalentHyp  diabetes  totChol  sysBP  diaBP    BMI  \\\n",
            "0                0             0         0    220.0  143.0  104.0  29.85   \n",
            "1                0             0         0    199.0  122.0   82.0  22.16   \n",
            "2                0             0         0    275.0  112.0   71.0  25.68   \n",
            "3                0             1         0    170.0  130.0   94.0  23.90   \n",
            "4                0             0         0    202.0  124.0   92.0  21.26   \n",
            "\n",
            "   heartRate  glucose  TenYearCHD  \n",
            "0         75     87.0           1  \n",
            "1         85     77.0           0  \n",
            "2         80      NaN           0  \n",
            "3        105     75.0           0  \n",
            "4         75     74.0           0   \n",
            "\n",
            "----------- Post-cleaning | train data null counts\n",
            "sex 0\n",
            "age 0\n",
            "education 0\n",
            "currentSmoker 0\n",
            "cigsPerDay 0\n",
            "BPMeds 0\n",
            "prevalentStroke 0\n",
            "prevalentHyp 0\n",
            "diabetes 0\n",
            "totChol 0\n",
            "sysBP 0\n",
            "diaBP 0\n",
            "BMI 0\n",
            "heartRate 0\n",
            "glucose 0\n",
            "TenYearCHD 0\n",
            "\n",
            "    sex  age  education  currentSmoker  cigsPerDay  BPMeds  prevalentStroke  \\\n",
            "0    1   58        1.0              0         0.0     0.0                0   \n",
            "1    0   40        1.0              1        15.0     0.0                0   \n",
            "2    0   52        1.0              0         0.0     0.0                0   \n",
            "3    1   38        2.0              1        43.0     0.0                0   \n",
            "4    0   43        1.0              0         0.0     0.0                0   \n",
            "\n",
            "   prevalentHyp  diabetes  totChol  sysBP  diaBP    BMI  heartRate  glucose  \\\n",
            "0             0         0    220.0  143.0  104.0  29.85         75     87.0   \n",
            "1             0         0    199.0  122.0   82.0  22.16         85     77.0   \n",
            "2             0         0    275.0  112.0   71.0  25.68         80     78.0   \n",
            "3             1         0    170.0  130.0   94.0  23.90        105     75.0   \n",
            "4             0         0    202.0  124.0   92.0  21.26         75     74.0   \n",
            "\n",
            "   TenYearCHD  \n",
            "0           1  \n",
            "1           0  \n",
            "2           0  \n",
            "3           0  \n",
            "4           0  \n"
          ]
        }
      ]
    },
    {
      "cell_type": "code",
      "source": [
        "print('----------- Pre-cleaning | test data null counts')\n",
        "for v in df_test.columns:\n",
        "   print(v, sum(df_test[v].isnull()))\n",
        "\n",
        "print('\\n', df_test.head(), '\\n')\n",
        "\n",
        "df_test = df_test.drop(\"Unnamed: 0\", axis=1) # remove irrelevant column\n",
        "\n",
        "for v in df_test.columns: # loop through each var\n",
        "  df_test[v] = df_test[v].fillna(np.nanmedian(df_test[v])) # fill nan with median for that column. Using median omits outliers\n",
        "\n",
        "print('----------- Post-cleaning | test data null counts')\n",
        "for v in df_test.columns:\n",
        "  print(v, sum(df_test[v].isnull()))\n",
        "\n",
        "print('\\n', df_test.head())"
      ],
      "metadata": {
        "colab": {
          "base_uri": "https://localhost:8080/"
        },
        "id": "pD9j7UhWOF5X",
        "outputId": "284fe572-5eaf-4d50-bae1-3f202ddfbe89"
      },
      "execution_count": 20,
      "outputs": [
        {
          "output_type": "stream",
          "name": "stdout",
          "text": [
            "----------- Pre-cleaning | test data null counts\n",
            "Unnamed: 0 0\n",
            "sex 0\n",
            "age 0\n",
            "education 20\n",
            "currentSmoker 0\n",
            "cigsPerDay 5\n",
            "BPMeds 16\n",
            "prevalentStroke 0\n",
            "prevalentHyp 0\n",
            "diabetes 0\n",
            "totChol 11\n",
            "sysBP 0\n",
            "diaBP 0\n",
            "BMI 4\n",
            "heartRate 1\n",
            "glucose 103\n",
            "TenYearCHD 0\n",
            "\n",
            "    Unnamed: 0  sex  age  education  currentSmoker  cigsPerDay  BPMeds  \\\n",
            "0         674    0   58        1.0              1        20.0     0.0   \n",
            "1        4070    0   51        3.0              0         0.0     0.0   \n",
            "2        3150    0   44        2.0              1         9.0     0.0   \n",
            "3        1695    0   40        2.0              1        20.0     0.0   \n",
            "4        2692    1   58        2.0              1        20.0     0.0   \n",
            "\n",
            "   prevalentStroke  prevalentHyp  diabetes  totChol  sysBP  diaBP    BMI  \\\n",
            "0                0             0         0      NaN  126.0   77.0  30.08   \n",
            "1                0             0         0    264.0  135.0   83.0  26.68   \n",
            "2                0             1         0      NaN  147.5   96.0  30.57   \n",
            "3                0             0         0    271.0  138.5   88.0  27.24   \n",
            "4                0             0         0    207.0  110.0   80.0  23.55   \n",
            "\n",
            "   heartRate  glucose  TenYearCHD  \n",
            "0       78.0      NaN           0  \n",
            "1       60.0     74.0           0  \n",
            "2       78.0      NaN           1  \n",
            "3       80.0      NaN           1  \n",
            "4       78.0     78.0           0   \n",
            "\n",
            "----------- Post-cleaning | test data null counts\n",
            "sex 0\n",
            "age 0\n",
            "education 0\n",
            "currentSmoker 0\n",
            "cigsPerDay 0\n",
            "BPMeds 0\n",
            "prevalentStroke 0\n",
            "prevalentHyp 0\n",
            "diabetes 0\n",
            "totChol 0\n",
            "sysBP 0\n",
            "diaBP 0\n",
            "BMI 0\n",
            "heartRate 0\n",
            "glucose 0\n",
            "TenYearCHD 0\n",
            "\n",
            "    sex  age  education  currentSmoker  cigsPerDay  BPMeds  prevalentStroke  \\\n",
            "0    0   58        1.0              1        20.0     0.0                0   \n",
            "1    0   51        3.0              0         0.0     0.0                0   \n",
            "2    0   44        2.0              1         9.0     0.0                0   \n",
            "3    0   40        2.0              1        20.0     0.0                0   \n",
            "4    1   58        2.0              1        20.0     0.0                0   \n",
            "\n",
            "   prevalentHyp  diabetes  totChol  sysBP  diaBP    BMI  heartRate  glucose  \\\n",
            "0             0         0    235.0  126.0   77.0  30.08       78.0     78.0   \n",
            "1             0         0    264.0  135.0   83.0  26.68       60.0     74.0   \n",
            "2             1         0    235.0  147.5   96.0  30.57       78.0     78.0   \n",
            "3             0         0    271.0  138.5   88.0  27.24       80.0     78.0   \n",
            "4             0         0    207.0  110.0   80.0  23.55       78.0     78.0   \n",
            "\n",
            "   TenYearCHD  \n",
            "0           0  \n",
            "1           0  \n",
            "2           1  \n",
            "3           1  \n",
            "4           0  \n"
          ]
        }
      ]
    },
    {
      "cell_type": "code",
      "source": [
        "df_train.to_csv('fhs_train_clean.csv', index=False)\n",
        "df_test.to_csv('fhs_test_clean.csv', index=False)"
      ],
      "metadata": {
        "id": "GiO99Gaea-dV"
      },
      "execution_count": 21,
      "outputs": []
    }
  ]
}